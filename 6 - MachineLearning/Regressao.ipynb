{
  "nbformat": 4,
  "nbformat_minor": 0,
  "metadata": {
    "colab": {
      "provenance": []
    },
    "kernelspec": {
      "name": "python3",
      "display_name": "Python 3"
    },
    "language_info": {
      "name": "python"
    }
  },
  "cells": [
    {
      "cell_type": "markdown",
      "source": [
        "# Especialização em Inteligência Artificial\n",
        "\n",
        "**Aprendizado de Máquina - Web Conf 1: Exemplos práticos**\n",
        "\n",
        "Código de exemplo desenvolvido pelo docente [Adriano Rivolli](mailto:rivolli@utpfr.edu.br)\n",
        "\n",
        "*O código a seguir ilustra como carregar um dataset externo, usar regressores e preencher valores ausentes*"
      ],
      "metadata": {
        "id": "Pk5hbuSOK0H0"
      }
    },
    {
      "cell_type": "markdown",
      "source": [
        "## Leitura do dataset"
      ],
      "metadata": {
        "id": "J5SKQPt8L4pC"
      }
    },
    {
      "cell_type": "code",
      "execution_count": null,
      "metadata": {
        "id": "FUFdkM_UKxWo"
      },
      "outputs": [],
      "source": [
        "import pandas as pd\n",
        "from google.colab import drive\n",
        "drive.mount(\"/content/drive\",force_remount=True)\n",
        "\n",
        "\n",
        "df = pd.read_csv(\"/content/drive/MyDrive/UTFPR/aulas/machine learning (especialização)/codigos/webconf/cloud.csv\")\n",
        "df"
      ]
    },
    {
      "cell_type": "code",
      "source": [
        "from sklearn.model_selection import train_test_split\n",
        "\n",
        "X = df.drop('Target', axis=1)\n",
        "y = df['Target']\n",
        "X_train, X_test, y_train, y_test = train_test_split(X, y, test_size=0.2, random_state=42)\n",
        "\n",
        "X_train.head()"
      ],
      "metadata": {
        "id": "VcSIoW9-M6zx"
      },
      "execution_count": null,
      "outputs": []
    },
    {
      "cell_type": "markdown",
      "source": [
        "## Regressores"
      ],
      "metadata": {
        "id": "BO8GxnZdM0Yd"
      }
    },
    {
      "cell_type": "code",
      "source": [
        "from sklearn.neighbors import KNeighborsRegressor\n",
        "from sklearn.tree import DecisionTreeRegressor\n",
        "from sklearn.svm import SVR\n",
        "from sklearn.ensemble import RandomForestRegressor\n",
        "\n",
        "from sklearn.metrics import mean_squared_error, r2_score\n",
        "import matplotlib.pyplot as plt"
      ],
      "metadata": {
        "id": "wKqlcRyNQC0q"
      },
      "execution_count": null,
      "outputs": []
    },
    {
      "cell_type": "markdown",
      "source": [
        "### Knn Regressor"
      ],
      "metadata": {
        "id": "ClzaCsKTNQIx"
      }
    },
    {
      "cell_type": "code",
      "source": [
        "knn = KNeighborsRegressor(n_neighbors=3, weights='distance')\n",
        "knn.fit(X_train, y_train)\n",
        "\n",
        "y_pred = knn.predict(X_test)\n",
        "y_pred"
      ],
      "metadata": {
        "id": "xbDciNv3Nyce"
      },
      "execution_count": null,
      "outputs": []
    },
    {
      "cell_type": "code",
      "source": [
        "mse = mean_squared_error(y_test, y_pred)\n",
        "r2 = r2_score(y_test, y_pred)\n",
        "print(\"MSE:\", mse)\n",
        "print(\"R2:\", r2)"
      ],
      "metadata": {
        "id": "3xir_I5uOQTf"
      },
      "execution_count": null,
      "outputs": []
    },
    {
      "cell_type": "code",
      "source": [
        "def plot_predictions_vs_actual(actual, predictions, title):\n",
        "    plt.figure(figsize=(8, 6))\n",
        "    plt.scatter(actual, predictions, color='blue', label='Predições vs. Real')\n",
        "    plt.plot(actual, actual, color='red', linestyle='--', label='Linha de Referência')\n",
        "    plt.title('Previstos vs. Reais: '+title)\n",
        "    plt.xlabel('Valores Reais')\n",
        "    plt.ylabel('Valores Previstos')\n",
        "    plt.legend()\n",
        "    plt.grid(True)\n",
        "    plt.show()\n",
        "\n",
        "plot_predictions_vs_actual(y_test, y_pred, 'KNN')"
      ],
      "metadata": {
        "id": "TqUNT_DtOdfj"
      },
      "execution_count": null,
      "outputs": []
    },
    {
      "cell_type": "markdown",
      "source": [
        "### Árvore de regressão"
      ],
      "metadata": {
        "id": "KysqIS6sPZTR"
      }
    },
    {
      "cell_type": "code",
      "source": [
        "dt = DecisionTreeRegressor(random_state=42)\n",
        "dt.fit(X_train, y_train)\n",
        "\n",
        "y_pred = dt.predict(X_test)\n",
        "y_pred"
      ],
      "metadata": {
        "id": "iFUMebR3PeBf"
      },
      "execution_count": null,
      "outputs": []
    },
    {
      "cell_type": "code",
      "source": [
        "mse = mean_squared_error(y_test, y_pred)\n",
        "r2 = r2_score(y_test, y_pred)\n",
        "print(\"MSE:\", mse)\n",
        "print(\"R2:\", r2)\n",
        "\n",
        "plot_predictions_vs_actual(y_test, y_pred, 'DTR')"
      ],
      "metadata": {
        "id": "2Kr1au1rPtxc"
      },
      "execution_count": null,
      "outputs": []
    },
    {
      "cell_type": "markdown",
      "source": [
        "### SVR"
      ],
      "metadata": {
        "id": "yE0GSmP8QVSg"
      }
    },
    {
      "cell_type": "code",
      "source": [
        "svr = SVR()\n",
        "svr.fit(X_train, y_train)\n",
        "\n",
        "y_pred = svr.predict(X_test)\n",
        "y_pred"
      ],
      "metadata": {
        "id": "DppiDSrcQXhj"
      },
      "execution_count": null,
      "outputs": []
    },
    {
      "cell_type": "code",
      "source": [
        "mse = mean_squared_error(y_test, y_pred)\n",
        "r2 = r2_score(y_test, y_pred)\n",
        "print(\"MSE:\", mse)\n",
        "print(\"R2:\", r2)\n",
        "\n",
        "plot_predictions_vs_actual(y_test, y_pred, 'SVR')"
      ],
      "metadata": {
        "id": "3ahpq0NbQiTS"
      },
      "execution_count": null,
      "outputs": []
    },
    {
      "cell_type": "markdown",
      "source": [
        "### Random Forest Regressor"
      ],
      "metadata": {
        "id": "NOeHGGxJQ-MJ"
      }
    },
    {
      "cell_type": "code",
      "source": [
        "rf = RandomForestRegressor(n_estimators=100, random_state=42)\n",
        "rf.fit(X_train, y_train)\n",
        "\n",
        "y_pred = rf.predict(X_test)\n",
        "y_pred"
      ],
      "metadata": {
        "id": "ZuSSoGLJRC8B"
      },
      "execution_count": null,
      "outputs": []
    },
    {
      "cell_type": "code",
      "source": [
        "mse = mean_squared_error(y_test, y_pred)\n",
        "r2 = r2_score(y_test, y_pred)\n",
        "print(\"MSE:\", mse)\n",
        "print(\"R2:\", r2)\n",
        "\n",
        "plot_predictions_vs_actual(y_test, y_pred, 'SVR')"
      ],
      "metadata": {
        "id": "KS1NQJhYRJm4"
      },
      "execution_count": null,
      "outputs": []
    },
    {
      "cell_type": "markdown",
      "source": [
        "## Estimando valores ausentes"
      ],
      "metadata": {
        "id": "SuDczjlfRi5I"
      }
    },
    {
      "cell_type": "code",
      "source": [
        "import numpy as np\n",
        "\n",
        "def add_missing_values_to_column(df, column_name, missing_percentage):\n",
        "    num_instances_with_missing_values = int(len(df) * missing_percentage)\n",
        "    instances_with_missing_values = np.random.choice(df.index, size=num_instances_with_missing_values, replace=False)\n",
        "\n",
        "    df_copy = df.copy()\n",
        "    df_copy.loc[instances_with_missing_values, column_name] = np.nan\n",
        "\n",
        "    return df_copy\n",
        "\n",
        "attribute = 'period'\n",
        "mdf = add_missing_values_to_column(df, attribute, 0.1)\n",
        "mdf.loc[mdf.isna().sum(axis=1) > 0,]"
      ],
      "metadata": {
        "id": "0CE0JnhURln1"
      },
      "execution_count": null,
      "outputs": []
    },
    {
      "cell_type": "code",
      "source": [
        "X = mdf.drop([attribute, 'Target'], axis=1)\n",
        "y = mdf[attribute]\n",
        "\n",
        "X_train = X.loc[~y.isna()]\n",
        "y_train = y.loc[~y.isna()]\n",
        "X_test = X.loc[y.isna()]\n",
        "y_test = df.loc[y.isna(), attribute]\n",
        "\n",
        "X_train.head()"
      ],
      "metadata": {
        "id": "e6arnI9ESjgj"
      },
      "execution_count": null,
      "outputs": []
    },
    {
      "cell_type": "code",
      "source": [
        "model = RandomForestRegressor()\n",
        "model.fit(X_train, y_train)\n",
        "\n",
        "y_pred = model.predict(X_test)\n",
        "mse = mean_squared_error(y_test, y_pred)\n",
        "r2 = r2_score(y_test, y_pred)\n",
        "print(\"MSE:\", mse)\n",
        "print(\"R2:\", r2)\n",
        "\n",
        "plot_predictions_vs_actual(y_test, y_pred, attribute)"
      ],
      "metadata": {
        "id": "eV5rAejuWGHb"
      },
      "execution_count": null,
      "outputs": []
    }
  ]
}