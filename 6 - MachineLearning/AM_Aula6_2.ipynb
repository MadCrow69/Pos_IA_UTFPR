{
  "nbformat": 4,
  "nbformat_minor": 0,
  "metadata": {
    "colab": {
      "provenance": []
    },
    "kernelspec": {
      "name": "python3",
      "display_name": "Python 3"
    },
    "language_info": {
      "name": "python"
    }
  },
  "cells": [
    {
      "cell_type": "markdown",
      "source": [
        "# Especialização em Inteligência Artificial\n",
        "\n",
        "**Aprendizado de Máquina - Aula 6.2: AutoML**\n",
        "\n",
        "Código de exemplo desenvolvido pelo docente [Adriano Rivolli](mailto:rivolli@utpfr.edu.br)\n",
        "\n",
        "*O código apresenta o uso do Auto-sklearn para solucionar um problema de classificação e um problema de regressão*"
      ],
      "metadata": {
        "id": "rVNX9DdAKCVT"
      }
    },
    {
      "cell_type": "markdown",
      "source": [
        "## Instalação\n",
        "Adaptado de https://github.com/automl/auto-sklearn/issues/1684"
      ],
      "metadata": {
        "id": "eQ4S9muVszgn"
      }
    },
    {
      "cell_type": "code",
      "source": [
        "!pip install Cython==0.29.36\n",
        "!pip uninstall scipy -y\n",
        "!pip install scipy==1.9\n",
        "!pip uninstall pyparsing -y\n",
        "!pip install pyparsing==2.4\n",
        "!pip uninstall scikit_learn -y"
      ],
      "metadata": {
        "id": "6IkIFxVVs3uK",
        "colab": {
          "base_uri": "https://localhost:8080/",
          "height": 599
        },
        "outputId": "bea97958-d6e3-4b00-ff84-5574e88b9c93"
      },
      "execution_count": null,
      "outputs": [
        {
          "output_type": "stream",
          "name": "stdout",
          "text": [
            "Requirement already satisfied: Cython==0.29.36 in /usr/local/lib/python3.10/dist-packages (0.29.36)\n",
            "Found existing installation: scipy 1.9.0\n",
            "Uninstalling scipy-1.9.0:\n",
            "  Successfully uninstalled scipy-1.9.0\n",
            "Collecting scipy==1.9\n",
            "  Using cached scipy-1.9.0-cp310-cp310-manylinux_2_17_x86_64.manylinux2014_x86_64.whl (43.9 MB)\n",
            "Requirement already satisfied: numpy<1.25.0,>=1.18.5 in /usr/local/lib/python3.10/dist-packages (from scipy==1.9) (1.24.4)\n",
            "Installing collected packages: scipy\n",
            "\u001b[31mERROR: pip's dependency resolver does not currently take into account all the packages that are installed. This behaviour is the source of the following dependency conflicts.\n",
            "fastai 2.7.15 requires scikit-learn, which is not installed.\n",
            "imbalanced-learn 0.10.1 requires scikit-learn>=1.0.2, which is not installed.\n",
            "librosa 0.10.2.post1 requires scikit-learn>=0.20.0, which is not installed.\n",
            "mlxtend 0.22.0 requires scikit-learn>=1.0.2, which is not installed.\n",
            "sklearn-pandas 2.2.0 requires scikit-learn>=0.23.0, which is not installed.\n",
            "yellowbrick 1.5 requires scikit-learn>=1.0.0, which is not installed.\u001b[0m\u001b[31m\n",
            "\u001b[0mSuccessfully installed scipy-1.9.0\n",
            "Found existing installation: pyparsing 2.4.0\n",
            "Uninstalling pyparsing-2.4.0:\n",
            "  Successfully uninstalled pyparsing-2.4.0\n",
            "Collecting pyparsing==2.4\n",
            "  Using cached pyparsing-2.4.0-py2.py3-none-any.whl (62 kB)\n",
            "Installing collected packages: pyparsing\n",
            "\u001b[31mERROR: pip's dependency resolver does not currently take into account all the packages that are installed. This behaviour is the source of the following dependency conflicts.\n",
            "mlxtend 0.22.0 requires scikit-learn>=1.0.2, which is not installed.\n",
            "yellowbrick 1.5 requires scikit-learn>=1.0.0, which is not installed.\n",
            "httplib2 0.22.0 requires pyparsing!=3.0.0,!=3.0.1,!=3.0.2,!=3.0.3,<4,>=2.4.2; python_version > \"3.0\", but you have pyparsing 2.4.0 which is incompatible.\u001b[0m\u001b[31m\n",
            "\u001b[0mSuccessfully installed pyparsing-2.4.0\n"
          ]
        },
        {
          "output_type": "display_data",
          "data": {
            "application/vnd.colab-display-data+json": {
              "pip_warning": {
                "packages": [
                  "pyparsing"
                ]
              },
              "id": "ef33376e7a76421288079728c3129804"
            }
          },
          "metadata": {}
        },
        {
          "output_type": "stream",
          "name": "stdout",
          "text": [
            "\u001b[33mWARNING: Skipping scikit_learn as it is not installed.\u001b[0m\u001b[33m\n",
            "\u001b[0m"
          ]
        }
      ]
    },
    {
      "cell_type": "code",
      "source": [
        "!pip install scikit-learn==0.24.2 --no-build-isolation"
      ],
      "metadata": {
        "colab": {
          "base_uri": "https://localhost:8080/"
        },
        "id": "auka62mGW3mf",
        "outputId": "b8040ce4-4062-4689-fe1c-b1b8fa78fccc"
      },
      "execution_count": null,
      "outputs": [
        {
          "output_type": "stream",
          "name": "stdout",
          "text": [
            "Collecting scikit-learn==0.24.2\n",
            "  Using cached scikit-learn-0.24.2.tar.gz (7.5 MB)\n",
            "  Preparing metadata (pyproject.toml) ... \u001b[?25l\u001b[?25hdone\n",
            "Requirement already satisfied: numpy>=1.13.3 in /usr/local/lib/python3.10/dist-packages (from scikit-learn==0.24.2) (1.24.4)\n",
            "Requirement already satisfied: scipy>=0.19.1 in /usr/local/lib/python3.10/dist-packages (from scikit-learn==0.24.2) (1.9.0)\n",
            "Requirement already satisfied: joblib>=0.11 in /usr/local/lib/python3.10/dist-packages (from scikit-learn==0.24.2) (1.4.2)\n",
            "Requirement already satisfied: threadpoolctl>=2.0.0 in /usr/local/lib/python3.10/dist-packages (from scikit-learn==0.24.2) (3.5.0)\n",
            "Building wheels for collected packages: scikit-learn\n",
            "  Building wheel for scikit-learn (pyproject.toml) ... \u001b[?25l\u001b[?25hdone\n",
            "  Created wheel for scikit-learn: filename=scikit_learn-0.24.2-cp310-cp310-linux_x86_64.whl size=22237987 sha256=afb1b285709ce412b1299c48aab03d475cb7aeebb83b9e447fc625e5f8ab8b69\n",
            "  Stored in directory: /root/.cache/pip/wheels/13/a4/68/4e78865652fa14db4a162b491e5138565f97646f9e1f2ab8cc\n",
            "Successfully built scikit-learn\n",
            "Installing collected packages: scikit-learn\n",
            "\u001b[31mERROR: pip's dependency resolver does not currently take into account all the packages that are installed. This behaviour is the source of the following dependency conflicts.\n",
            "bigframes 1.8.0 requires scikit-learn>=1.2.2, but you have scikit-learn 0.24.2 which is incompatible.\n",
            "imbalanced-learn 0.10.1 requires scikit-learn>=1.0.2, but you have scikit-learn 0.24.2 which is incompatible.\n",
            "mlxtend 0.22.0 requires scikit-learn>=1.0.2, but you have scikit-learn 0.24.2 which is incompatible.\n",
            "yellowbrick 1.5 requires scikit-learn>=1.0.0, but you have scikit-learn 0.24.2 which is incompatible.\u001b[0m\u001b[31m\n",
            "\u001b[0mSuccessfully installed scikit-learn-0.24.2\n"
          ]
        }
      ]
    },
    {
      "cell_type": "code",
      "source": [
        "!pip install auto-sklearn"
      ],
      "metadata": {
        "colab": {
          "base_uri": "https://localhost:8080/"
        },
        "id": "3TdfEdBJWIgh",
        "outputId": "80fe0df5-7069-4276-efcf-cf7d232bf70d"
      },
      "execution_count": null,
      "outputs": [
        {
          "output_type": "stream",
          "name": "stdout",
          "text": [
            "Collecting auto-sklearn\n",
            "  Using cached auto-sklearn-0.15.0.tar.gz (6.5 MB)\n",
            "  Installing build dependencies ... \u001b[?25l\u001b[?25hdone\n",
            "  Getting requirements to build wheel ... \u001b[?25l\u001b[?25hdone\n",
            "  Preparing metadata (pyproject.toml) ... \u001b[?25l\u001b[?25hdone\n",
            "Requirement already satisfied: setuptools in /usr/local/lib/python3.10/dist-packages (from auto-sklearn) (67.7.2)\n",
            "Requirement already satisfied: typing-extensions in /usr/local/lib/python3.10/dist-packages (from auto-sklearn) (4.12.1)\n",
            "Requirement already satisfied: distro in /usr/lib/python3/dist-packages (from auto-sklearn) (1.7.0)\n",
            "Requirement already satisfied: numpy>=1.9.0 in /usr/local/lib/python3.10/dist-packages (from auto-sklearn) (1.24.4)\n",
            "Requirement already satisfied: scipy>=1.7.0 in /usr/local/lib/python3.10/dist-packages (from auto-sklearn) (1.9.0)\n",
            "Requirement already satisfied: joblib in /usr/local/lib/python3.10/dist-packages (from auto-sklearn) (1.4.2)\n",
            "Requirement already satisfied: scikit-learn<0.25.0,>=0.24.0 in /usr/local/lib/python3.10/dist-packages (from auto-sklearn) (0.24.2)\n",
            "Requirement already satisfied: dask>=2021.12 in /usr/local/lib/python3.10/dist-packages (from auto-sklearn) (2023.8.1)\n",
            "Requirement already satisfied: distributed>=2012.12 in /usr/local/lib/python3.10/dist-packages (from auto-sklearn) (2023.8.1)\n",
            "Requirement already satisfied: pyyaml in /usr/local/lib/python3.10/dist-packages (from auto-sklearn) (6.0.1)\n",
            "Requirement already satisfied: pandas>=1.0 in /usr/local/lib/python3.10/dist-packages (from auto-sklearn) (2.0.3)\n",
            "Collecting liac-arff (from auto-sklearn)\n",
            "  Downloading liac-arff-2.5.0.tar.gz (13 kB)\n",
            "  Preparing metadata (setup.py) ... \u001b[?25l\u001b[?25hdone\n",
            "Requirement already satisfied: threadpoolctl in /usr/local/lib/python3.10/dist-packages (from auto-sklearn) (3.5.0)\n",
            "Collecting ConfigSpace<0.5,>=0.4.21 (from auto-sklearn)\n",
            "  Downloading ConfigSpace-0.4.21-cp310-cp310-manylinux_2_17_x86_64.manylinux2014_x86_64.whl (4.8 MB)\n",
            "\u001b[2K     \u001b[90m━━━━━━━━━━━━━━━━━━━━━━━━━━━━━━━━━━━━━━━━\u001b[0m \u001b[32m4.8/4.8 MB\u001b[0m \u001b[31m40.6 MB/s\u001b[0m eta \u001b[36m0:00:00\u001b[0m\n",
            "\u001b[?25hCollecting pynisher<0.7,>=0.6.3 (from auto-sklearn)\n",
            "  Downloading pynisher-0.6.4.tar.gz (11 kB)\n",
            "  Preparing metadata (setup.py) ... \u001b[?25l\u001b[?25hdone\n",
            "Collecting pyrfr<0.9,>=0.8.1 (from auto-sklearn)\n",
            "  Downloading pyrfr-0.8.3-cp310-cp310-manylinux_2_17_x86_64.manylinux2014_x86_64.whl (4.5 MB)\n",
            "\u001b[2K     \u001b[90m━━━━━━━━━━━━━━━━━━━━━━━━━━━━━━━━━━━━━━━━\u001b[0m \u001b[32m4.5/4.5 MB\u001b[0m \u001b[31m77.7 MB/s\u001b[0m eta \u001b[36m0:00:00\u001b[0m\n",
            "\u001b[?25hCollecting smac<1.3,>=1.2 (from auto-sklearn)\n",
            "  Downloading smac-1.2.tar.gz (260 kB)\n",
            "\u001b[2K     \u001b[90m━━━━━━━━━━━━━━━━━━━━━━━━━━━━━━━━━━━━━━━━\u001b[0m \u001b[32m260.9/260.9 kB\u001b[0m \u001b[31m25.8 MB/s\u001b[0m eta \u001b[36m0:00:00\u001b[0m\n",
            "\u001b[?25h  Preparing metadata (setup.py) ... \u001b[?25l\u001b[?25hdone\n",
            "Requirement already satisfied: cython in /usr/local/lib/python3.10/dist-packages (from ConfigSpace<0.5,>=0.4.21->auto-sklearn) (0.29.36)\n",
            "Requirement already satisfied: pyparsing in /usr/local/lib/python3.10/dist-packages (from ConfigSpace<0.5,>=0.4.21->auto-sklearn) (2.4.0)\n",
            "Requirement already satisfied: click>=8.0 in /usr/local/lib/python3.10/dist-packages (from dask>=2021.12->auto-sklearn) (8.1.7)\n",
            "Requirement already satisfied: cloudpickle>=1.5.0 in /usr/local/lib/python3.10/dist-packages (from dask>=2021.12->auto-sklearn) (2.2.1)\n",
            "Requirement already satisfied: fsspec>=2021.09.0 in /usr/local/lib/python3.10/dist-packages (from dask>=2021.12->auto-sklearn) (2023.6.0)\n",
            "Requirement already satisfied: packaging>=20.0 in /usr/local/lib/python3.10/dist-packages (from dask>=2021.12->auto-sklearn) (24.0)\n",
            "Requirement already satisfied: partd>=1.2.0 in /usr/local/lib/python3.10/dist-packages (from dask>=2021.12->auto-sklearn) (1.4.2)\n",
            "Requirement already satisfied: toolz>=0.10.0 in /usr/local/lib/python3.10/dist-packages (from dask>=2021.12->auto-sklearn) (0.12.1)\n",
            "Requirement already satisfied: importlib-metadata>=4.13.0 in /usr/local/lib/python3.10/dist-packages (from dask>=2021.12->auto-sklearn) (7.1.0)\n",
            "Requirement already satisfied: jinja2>=2.10.3 in /usr/local/lib/python3.10/dist-packages (from distributed>=2012.12->auto-sklearn) (3.1.4)\n",
            "Requirement already satisfied: locket>=1.0.0 in /usr/local/lib/python3.10/dist-packages (from distributed>=2012.12->auto-sklearn) (1.0.0)\n",
            "Requirement already satisfied: msgpack>=1.0.0 in /usr/local/lib/python3.10/dist-packages (from distributed>=2012.12->auto-sklearn) (1.0.8)\n",
            "Requirement already satisfied: psutil>=5.7.2 in /usr/local/lib/python3.10/dist-packages (from distributed>=2012.12->auto-sklearn) (5.9.5)\n",
            "Requirement already satisfied: sortedcontainers>=2.0.5 in /usr/local/lib/python3.10/dist-packages (from distributed>=2012.12->auto-sklearn) (2.4.0)\n",
            "Requirement already satisfied: tblib>=1.6.0 in /usr/local/lib/python3.10/dist-packages (from distributed>=2012.12->auto-sklearn) (3.0.0)\n",
            "Requirement already satisfied: tornado>=6.0.4 in /usr/local/lib/python3.10/dist-packages (from distributed>=2012.12->auto-sklearn) (6.3.3)\n",
            "Requirement already satisfied: urllib3>=1.24.3 in /usr/local/lib/python3.10/dist-packages (from distributed>=2012.12->auto-sklearn) (2.0.7)\n",
            "Requirement already satisfied: zict>=2.2.0 in /usr/local/lib/python3.10/dist-packages (from distributed>=2012.12->auto-sklearn) (3.0.0)\n",
            "Requirement already satisfied: python-dateutil>=2.8.2 in /usr/local/lib/python3.10/dist-packages (from pandas>=1.0->auto-sklearn) (2.8.2)\n",
            "Requirement already satisfied: pytz>=2020.1 in /usr/local/lib/python3.10/dist-packages (from pandas>=1.0->auto-sklearn) (2023.4)\n",
            "Requirement already satisfied: tzdata>=2022.1 in /usr/local/lib/python3.10/dist-packages (from pandas>=1.0->auto-sklearn) (2024.1)\n",
            "Collecting emcee>=3.0.0 (from smac<1.3,>=1.2->auto-sklearn)\n",
            "  Downloading emcee-3.1.6-py2.py3-none-any.whl (47 kB)\n",
            "\u001b[2K     \u001b[90m━━━━━━━━━━━━━━━━━━━━━━━━━━━━━━━━━━━━━━━━\u001b[0m \u001b[32m47.4/47.4 kB\u001b[0m \u001b[31m5.2 MB/s\u001b[0m eta \u001b[36m0:00:00\u001b[0m\n",
            "\u001b[?25hRequirement already satisfied: zipp>=0.5 in /usr/local/lib/python3.10/dist-packages (from importlib-metadata>=4.13.0->dask>=2021.12->auto-sklearn) (3.19.1)\n",
            "Requirement already satisfied: MarkupSafe>=2.0 in /usr/local/lib/python3.10/dist-packages (from jinja2>=2.10.3->distributed>=2012.12->auto-sklearn) (2.1.5)\n",
            "Requirement already satisfied: six>=1.5 in /usr/local/lib/python3.10/dist-packages (from python-dateutil>=2.8.2->pandas>=1.0->auto-sklearn) (1.16.0)\n",
            "Building wheels for collected packages: auto-sklearn, pynisher, smac, liac-arff\n",
            "  Building wheel for auto-sklearn (pyproject.toml) ... \u001b[?25l\u001b[?25hdone\n",
            "  Created wheel for auto-sklearn: filename=auto_sklearn-0.15.0-py3-none-any.whl size=6641936 sha256=ca01e5eac823b97cf34d6c36007efba0c0dbcb86702e05440f4dbe88e6d5694f\n",
            "  Stored in directory: /root/.cache/pip/wheels/4d/0a/f9/8c1a06bcc36bc16b467b044b5bb03a90f92a5c5e6cd443414b\n",
            "  Building wheel for pynisher (setup.py) ... \u001b[?25l\u001b[?25hdone\n",
            "  Created wheel for pynisher: filename=pynisher-0.6.4-py3-none-any.whl size=7026 sha256=20aebee1915ef8fe2d61832a612ae3d44dc76ea6d4852450bd613e47f927337d\n",
            "  Stored in directory: /root/.cache/pip/wheels/90/7b/53/b21d6b41910f43c7f1557262e579598f83e75e44c659c1bcce\n",
            "  Building wheel for smac (setup.py) ... \u001b[?25l\u001b[?25hdone\n",
            "  Created wheel for smac: filename=smac-1.2-py3-none-any.whl size=215910 sha256=d042f32cf4f1df8d149c500ada0731012730d8c56a1b13ba22aeacb250f085b2\n",
            "  Stored in directory: /root/.cache/pip/wheels/66/2e/d9/2db14bdfcdc36bf12e202b44201df03f194367fcfd85ce2778\n",
            "  Building wheel for liac-arff (setup.py) ... \u001b[?25l\u001b[?25hdone\n",
            "  Created wheel for liac-arff: filename=liac_arff-2.5.0-py3-none-any.whl size=11716 sha256=1c26bbec27077c1f3f835c4c9120b2a6c190a5ae1a9234745379cc1f5563ac90\n",
            "  Stored in directory: /root/.cache/pip/wheels/5d/2a/9c/3895d9617f8f49a0883ba686326d598e78a1c2f54fe3cae86d\n",
            "Successfully built auto-sklearn pynisher smac liac-arff\n",
            "Installing collected packages: pyrfr, pynisher, liac-arff, emcee, ConfigSpace, smac, auto-sklearn\n",
            "Successfully installed ConfigSpace-0.4.21 auto-sklearn-0.15.0 emcee-3.1.6 liac-arff-2.5.0 pynisher-0.6.4 pyrfr-0.8.3 smac-1.2\n"
          ]
        }
      ]
    },
    {
      "cell_type": "markdown",
      "source": [
        "## AutoML para classificação"
      ],
      "metadata": {
        "id": "NL3zIKCoJbdp"
      }
    },
    {
      "cell_type": "code",
      "source": [
        "from autosklearn.classification import AutoSklearnClassifier\n",
        "from autosklearn.regression import AutoSklearnRegressor\n",
        "\n",
        "from sklearn.model_selection import train_test_split\n",
        "from sklearn.model_selection import GridSearchCV\n",
        "from sklearn.metrics import accuracy_score\n",
        "from sklearn.metrics import r2_score\n",
        "\n",
        "from sklearn.ensemble import RandomForestClassifier\n",
        "from sklearn.ensemble import RandomForestRegressor\n",
        "from sklearn.svm import SVC\n",
        "from sklearn.svm import SVR\n",
        "\n",
        "from sklearn.datasets import fetch_openml"
      ],
      "metadata": {
        "id": "gZx8jvUs7xqT"
      },
      "execution_count": null,
      "outputs": []
    },
    {
      "cell_type": "code",
      "source": [
        "dataset = fetch_openml(data_id=1492) #Para umd dataset categorico: 3\n",
        "X = dataset.data\n",
        "y = dataset.target\n",
        "\n",
        "X_train, X_test, y_train, y_test = train_test_split(X, y, random_state=1)\n",
        "\n",
        "X_test, y_test"
      ],
      "metadata": {
        "id": "tmAt-vZbE6AO",
        "colab": {
          "base_uri": "https://localhost:8080/"
        },
        "outputId": "a7c84284-e3e0-4379-ece2-dd2489ff5e63"
      },
      "execution_count": null,
      "outputs": [
        {
          "output_type": "execute_result",
          "data": {
            "text/plain": [
              "(            V1        V2        V3        V4        V5        V6        V7  \\\n",
              " 75    0.001161  0.001086  0.001010  0.000939  0.000896  0.000857  0.000837   \n",
              " 1284  0.000893  0.000844  0.000794  0.000742  0.000693  0.000644  0.000597   \n",
              " 408   0.000844  0.000894  0.000911  0.000848  0.000810  0.000765  0.000729   \n",
              " 1282  0.000879  0.000823  0.000778  0.000729  0.000683  0.000637  0.000595   \n",
              " 1447  0.000406  0.000461  0.000517  0.000542  0.000485  0.000432  0.000418   \n",
              " ...        ...       ...       ...       ...       ...       ...       ...   \n",
              " 1566  0.000521  0.000506  0.000473  0.000448  0.000420  0.000400  0.000371   \n",
              " 1355  0.000672  0.000620  0.000568  0.000524  0.000500  0.000491  0.000492   \n",
              " 1205  0.001075  0.001046  0.000990  0.001016  0.000938  0.000935  0.000940   \n",
              " 12    0.000544  0.000616  0.000674  0.000605  0.000587  0.000619  0.000632   \n",
              " 584   0.001317  0.001250  0.001150  0.001097  0.001020  0.000960  0.000901   \n",
              " \n",
              "             V8        V9       V10  ...       V55       V56       V57  \\\n",
              " 75    0.000819  0.000783  0.000764  ...  0.000753  0.000775  0.000808   \n",
              " 1284  0.000551  0.000506  0.000466  ...  0.000418  0.000458  0.000506   \n",
              " 408   0.000689  0.000655  0.000620  ...  0.000584  0.000616  0.000648   \n",
              " 1282  0.000554  0.000517  0.000478  ...  0.000471  0.000515  0.000559   \n",
              " 1447  0.000411  0.000366  0.000321  ...  0.000220  0.000172  0.000153   \n",
              " ...        ...       ...       ...  ...       ...       ...       ...   \n",
              " 1566  0.000343  0.000317  0.000299  ...  0.000320  0.000342  0.000368   \n",
              " 1355  0.000532  0.000568  0.000623  ...  0.001246  0.001311  0.001222   \n",
              " 1205  0.000950  0.000935  0.000889  ...  0.001672  0.001753  0.001719   \n",
              " 12    0.000633  0.000628  0.000603  ...  0.000554  0.000563  0.000570   \n",
              " 584   0.000846  0.000788  0.000763  ...  0.000576  0.000545  0.000544   \n",
              " \n",
              "            V58       V59       V60       V61       V62       V63       V64  \n",
              " 75    0.000842  0.000852  0.000870  0.000927  0.000995  0.001068  0.001144  \n",
              " 1284  0.000553  0.000601  0.000651  0.000701  0.000754  0.000808  0.000862  \n",
              " 408   0.000677  0.000660  0.000689  0.000713  0.000737  0.000771  0.000794  \n",
              " 1282  0.000606  0.000651  0.000701  0.000754  0.000810  0.000865  0.000921  \n",
              " 1447  0.000194  0.000249  0.000295  0.000332  0.000394  0.000376  0.000373  \n",
              " ...        ...       ...       ...       ...       ...       ...       ...  \n",
              " 1566  0.000397  0.000409  0.000442  0.000462  0.000502  0.000522  0.000525  \n",
              " 1355  0.001172  0.001116  0.001030  0.000950  0.000874  0.000800  0.000735  \n",
              " 1205  0.001665  0.001609  0.001550  0.001442  0.001354  0.001257  0.001168  \n",
              " 12    0.000573  0.000603  0.000617  0.000624  0.000613  0.000618  0.000592  \n",
              " 584   0.000649  0.000757  0.000866  0.000969  0.001071  0.001166  0.001261  \n",
              " \n",
              " [400 rows x 64 columns],\n",
              " 75      21\n",
              " 1284    67\n",
              " 408     75\n",
              " 1282    67\n",
              " 1447    84\n",
              "         ..\n",
              " 1566    98\n",
              " 1355    74\n",
              " 1205    58\n",
              " 12      13\n",
              " 584     35\n",
              " Name: Class, Length: 400, dtype: category\n",
              " Categories (100, object): ['1', '2', '3', '4', ..., '97', '98', '99', '100'])"
            ]
          },
          "metadata": {},
          "execution_count": 4
        }
      ]
    },
    {
      "cell_type": "code",
      "source": [
        "automl = AutoSklearnClassifier(time_left_for_this_task=120, per_run_time_limit=30)\n",
        "automl.fit(X_train, y_train)\n",
        "print(automl.leaderboard())\n",
        "\n",
        "predictions = automl.predict(X_test)\n",
        "print(\"Accuracy score:\", accuracy_score(y_test, predictions))"
      ],
      "metadata": {
        "id": "vv49zDbNz0Su",
        "colab": {
          "base_uri": "https://localhost:8080/"
        },
        "outputId": "a3db95d7-fe74-48a0-ad12-66a53bf63b1e"
      },
      "execution_count": null,
      "outputs": [
        {
          "output_type": "stream",
          "name": "stderr",
          "text": [
            "/usr/local/lib/python3.10/dist-packages/autosklearn/data/target_validator.py:187: UserWarning: Fitting transformer with a pandas series which has the dtype category. Inverse transform may not be able preserve dtype when converting to np.ndarray\n",
            "  warnings.warn(\n"
          ]
        },
        {
          "output_type": "stream",
          "name": "stdout",
          "text": [
            "          rank  ensemble_weight                 type      cost   duration\n",
            "model_id                                                                 \n",
            "3            1             0.04          extra_trees  0.366162   4.335307\n",
            "6            2             0.04           libsvm_svc  0.366162   3.146541\n",
            "2            3             0.02        random_forest  0.388889  10.460100\n",
            "8            4             0.02           libsvm_svc  0.406566   2.355494\n",
            "9            5             0.02           libsvm_svc  0.416667   1.956231\n",
            "10           6             0.02  k_nearest_neighbors  0.416667   1.220913\n",
            "16           7             0.02                  mlp  0.578283   8.145243\n",
            "15           8             0.02    gradient_boosting  0.729798  11.097052\n",
            "18           9             0.04             adaboost  0.851010   4.052696\n",
            "7           10             0.02           libsvm_svc  0.898990   2.420609\n",
            "4           11             0.74                  sgd  0.901515   1.877944\n",
            "Accuracy score: 0.6175\n"
          ]
        }
      ]
    },
    {
      "cell_type": "markdown",
      "source": [
        "### Comparando com outros classificadores"
      ],
      "metadata": {
        "id": "DkOvrUtXJqwY"
      }
    },
    {
      "cell_type": "code",
      "source": [
        "rfmodel = RandomForestClassifier()\n",
        "rfmodel.fit(X_train, y_train)\n",
        "predictions = rfmodel.predict(X_test)\n",
        "print(\"Accuracy score:\", accuracy_score(y_test, predictions))"
      ],
      "metadata": {
        "id": "5i3hjPAi6-co",
        "colab": {
          "base_uri": "https://localhost:8080/"
        },
        "outputId": "a33f5710-e247-48e6-a7e0-da7e014ac6da"
      },
      "execution_count": null,
      "outputs": [
        {
          "output_type": "stream",
          "name": "stdout",
          "text": [
            "Accuracy score: 0.59\n"
          ]
        }
      ]
    },
    {
      "cell_type": "code",
      "source": [
        "param_grid = {\n",
        "    'C': [0.001, 0.01, 0.1, 1, 10, 100, 1000],\n",
        "    'gamma': [0.001, 0.01, 0.1, 1, 10, 100, 1000],\n",
        "    'kernel': ['rbf', 'poly']\n",
        "}\n",
        "\n",
        "svm_classifier = SVC()\n",
        "grid_search = GridSearchCV(estimator=svm_classifier, param_grid=param_grid, cv=5, scoring='accuracy')\n",
        "grid_search.fit(X_train, y_train)\n",
        "\n",
        "best_model = grid_search.best_estimator_\n",
        "predictions = best_model.predict(X_test)\n",
        "\n",
        "print(\"Accuracy score:\", accuracy_score(y_test, predictions))"
      ],
      "metadata": {
        "id": "X_mRQYD9J05T",
        "colab": {
          "base_uri": "https://localhost:8080/"
        },
        "outputId": "ce0e16be-3a84-47ff-cbd0-3422f096a0cc"
      },
      "execution_count": null,
      "outputs": [
        {
          "output_type": "stream",
          "name": "stdout",
          "text": [
            "Accuracy score: 0.5575\n"
          ]
        }
      ]
    },
    {
      "cell_type": "markdown",
      "source": [
        "## AutoML para regressão"
      ],
      "metadata": {
        "id": "WWEtGs2lMRXY"
      }
    },
    {
      "cell_type": "code",
      "source": [
        "dataset = fetch_openml(data_id=606) #Para um dataset espaço: 4026\n",
        "X = dataset.data\n",
        "y = dataset.target\n",
        "\n",
        "X_train, X_test, y_train, y_test = train_test_split(X, y, random_state=1)\n",
        "\n",
        "X_test, y_test"
      ],
      "metadata": {
        "id": "Gbb3RZPBMUj0",
        "colab": {
          "base_uri": "https://localhost:8080/"
        },
        "outputId": "903c725f-48cc-4234-d2f3-d1061e009725"
      },
      "execution_count": null,
      "outputs": [
        {
          "output_type": "execute_result",
          "data": {
            "text/plain": [
              "(          oz1       oz2       oz3       oz4       oz5       oz6       oz7  \\\n",
              " 507 -0.905553 -0.426092  0.602557  0.899695 -0.665943 -1.109956 -0.554939   \n",
              " 818  1.647405  1.103221  0.952346  0.758335  0.188055  0.168129 -0.174250   \n",
              " 452 -1.068717 -0.814440 -0.459208  0.178226 -0.657341 -0.645005 -0.623712   \n",
              " 368  1.185226  1.162194  0.218332 -0.618864 -0.301242 -0.051271 -1.253364   \n",
              " 242  1.015247  1.002117 -1.476878 -1.603076 -1.568813 -0.950287 -0.386373   \n",
              " ..        ...       ...       ...       ...       ...       ...       ...   \n",
              " 385 -0.550866  0.099056  0.621394  0.578390  0.163560  1.248854 -0.453944   \n",
              " 890  0.856995  1.431819  1.729246  0.314396  0.559509  0.868200  1.120888   \n",
              " 439  0.291770  0.467643  0.646053  1.108306  1.159197  1.573745 -0.350011   \n",
              " 135 -1.381823 -0.958120 -0.431638  1.227178  1.141894 -0.975209 -0.102163   \n",
              " 567 -1.543498 -1.612212 -1.591303 -0.641801 -1.048954  1.011382  1.325170   \n",
              " \n",
              "           oz8       oz9      oz10  \n",
              " 507  1.349668  0.486404  0.018089  \n",
              " 818 -0.267276 -0.784014 -0.365226  \n",
              " 452  0.991656  1.047167 -0.691658  \n",
              " 368 -0.346599  0.991240 -0.636022  \n",
              " 242  1.537111 -0.702325  0.367075  \n",
              " ..        ...       ...       ...  \n",
              " 385 -1.208659  0.089306  0.056647  \n",
              " 890 -0.363304 -0.759496 -0.688903  \n",
              " 439 -0.803237  0.459356  1.017026  \n",
              " 135  1.151224 -1.262247 -0.899936  \n",
              " 567  0.870127 -1.269999 -1.251580  \n",
              " \n",
              " [250 rows x 10 columns],\n",
              " 507    0.993715\n",
              " 818   -0.154813\n",
              " 452    0.194778\n",
              " 368   -1.556038\n",
              " 242   -2.012413\n",
              "          ...   \n",
              " 385    1.252900\n",
              " 890   -1.359266\n",
              " 439   -0.263867\n",
              " 135    0.995943\n",
              " 567   -0.113641\n",
              " Name: oz11, Length: 250, dtype: float64)"
            ]
          },
          "metadata": {},
          "execution_count": 8
        }
      ]
    },
    {
      "cell_type": "code",
      "source": [
        "autoregressor = AutoSklearnRegressor(time_left_for_this_task=120)\n",
        "autoregressor.fit(X_train, y_train)\n",
        "print(autoregressor.leaderboard())"
      ],
      "metadata": {
        "id": "K_pTsffeNLC3",
        "colab": {
          "base_uri": "https://localhost:8080/"
        },
        "outputId": "a723d27f-0776-4661-a040-370aa3f04121"
      },
      "execution_count": null,
      "outputs": [
        {
          "output_type": "stream",
          "name": "stdout",
          "text": [
            "          rank  ensemble_weight               type      cost  duration\n",
            "model_id                                                              \n",
            "6            1             0.78   gaussian_process  0.049841  2.327477\n",
            "7            2             0.08        extra_trees  0.076163  6.397127\n",
            "15           3             0.14  gradient_boosting  0.085335  1.746355\n"
          ]
        }
      ]
    },
    {
      "cell_type": "code",
      "source": [
        "train_predictions = autoregressor.predict(X_train)\n",
        "print(\"Train R2 score:\", r2_score(y_train, train_predictions))\n",
        "test_predictions = autoregressor.predict(X_test)\n",
        "print(\"Test R2 score:\", r2_score(y_test, test_predictions))"
      ],
      "metadata": {
        "id": "qg_3T2JRNc-T",
        "colab": {
          "base_uri": "https://localhost:8080/"
        },
        "outputId": "9c41c7af-6ffb-4f68-c8fc-70b8f6552e19"
      },
      "execution_count": null,
      "outputs": [
        {
          "output_type": "stream",
          "name": "stdout",
          "text": [
            "Train R2 score: 0.9581829999296111\n",
            "Test R2 score: 0.9568200935389979\n"
          ]
        }
      ]
    },
    {
      "cell_type": "markdown",
      "source": [
        "### Comparando com outros regressores"
      ],
      "metadata": {
        "id": "cfhXPIRzRkbq"
      }
    },
    {
      "cell_type": "code",
      "source": [
        "rf_regressor = RandomForestRegressor()\n",
        "rf_regressor.fit(X_train, y_train)\n",
        "\n",
        "rf_predictions = rf_regressor.predict(X_test)\n",
        "print(\"Test R2 score:\", r2_score(y_test, rf_predictions))"
      ],
      "metadata": {
        "id": "PcQMFKpyRufC",
        "colab": {
          "base_uri": "https://localhost:8080/"
        },
        "outputId": "658ef9f9-9425-4336-afa7-a56342b54d2c"
      },
      "execution_count": null,
      "outputs": [
        {
          "output_type": "stream",
          "name": "stdout",
          "text": [
            "Test R2 score: 0.9087837189810516\n"
          ]
        }
      ]
    },
    {
      "cell_type": "code",
      "source": [
        "svm_regressor = SVR()\n",
        "svm_regressor.fit(X_train, y_train)\n",
        "\n",
        "svm_predictions = svm_regressor.predict(X_test)\n",
        "print(\"Test R2 score:\", r2_score(y_test, svm_predictions))"
      ],
      "metadata": {
        "id": "O2RqQuLVRWkd",
        "colab": {
          "base_uri": "https://localhost:8080/"
        },
        "outputId": "fe73c464-d6ef-43d4-8c8a-8541c2f774a6"
      },
      "execution_count": null,
      "outputs": [
        {
          "output_type": "stream",
          "name": "stdout",
          "text": [
            "Test R2 score: 0.6383845065184759\n"
          ]
        }
      ]
    }
  ]
}