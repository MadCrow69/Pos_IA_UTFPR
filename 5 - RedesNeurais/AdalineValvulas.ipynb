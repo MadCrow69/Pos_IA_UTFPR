{
  "nbformat": 4,
  "nbformat_minor": 0,
  "metadata": {
    "colab": {
      "provenance": []
    },
    "kernelspec": {
      "name": "python3",
      "display_name": "Python 3"
    },
    "language_info": {
      "name": "python"
    }
  },
  "cells": [
    {
      "cell_type": "code",
      "execution_count": 1,
      "metadata": {
        "colab": {
          "base_uri": "https://localhost:8080/"
        },
        "id": "C91QDW9gkG78",
        "outputId": "b8f5f256-eaa7-462e-bc3e-f2baf441d347"
      },
      "outputs": [
        {
          "output_type": "stream",
          "name": "stdout",
          "text": [
            "Mounted at /content/drive\n"
          ]
        }
      ],
      "source": [
        "from sklearn import preprocessing # Biblioteca para suporte ao pré-processamento\n",
        "from sklearn.model_selection import train_test_split # Biblioteca para separação de amostras para treino e teste\n",
        "from mpl_toolkits.mplot3d import axes3d\n",
        "import matplotlib.pyplot as plt # Para visualizacao dos dados e do erro\n",
        "import numpy as np # Biblioteca de manipulacao de arrays Numpy\n",
        "from matplotlib.colors import ListedColormap # Lista de cores para plotagens\n",
        "import pandas as pd\n",
        "from google.colab import drive\n",
        "# Montando o Google Drive na mesma conta do Google Colab\n",
        "drive.mount('/content/drive')\n",
        "\n",
        "# Classe Adaline\n",
        "class Adaline:\n",
        "    # Construtor com informações setadas com o número de épocas máxima (epoch) e taxa de aprendizagem (eta)\n",
        "    def __init__(self, eta = 0.001, epoch = 1000, goal = 0.000001):\n",
        "        self.eta = eta # Taxa de aprendizagem, utilizada para impulsionar o movimento do hiperplano na separação de classes\n",
        "        self.epoch = epoch # Determinação máxima de épocas no ajuste da RNA\n",
        "        self.epochs = 0 # Contabilização do número de épocas no treinamento\n",
        "        self.errorsTests = 0 # Utilizado para contabilizar a quantidade de amostras classificadas incorretamente nos testes da rede já treinada\n",
        "        self.goal = goal # Definição do objetivo com parada definida no treinamento que é comparado com o cálculo do erro quadrático da época anterior com a atual\n",
        "\n",
        "    # Método para treinamento da rede\n",
        "    def fit(self, X, y):\n",
        "        # Inicialização dos pesos randomicamente - shape retorna a dimensão das entradas da RNA\n",
        "        self.weight_ = np.random.uniform(-1, 1, X.shape[1] + 1)\n",
        "        self.error_ = []\n",
        "        self.mse_ = []\n",
        "        self.mse = 0\n",
        "        self.cost = 0\n",
        "        cont = 1\n",
        "\n",
        "        for _ in range(self.epoch):\n",
        "            # Obtenção da saída da rede baseada nos pesos sinápticos ajustados\n",
        "            output = self.activation_function(X) # Valor do u\n",
        "            # y é a saída desejada e output é a saída calculada, obtem-se um valor real\n",
        "            error = y - output # verificação do erro\n",
        "\n",
        "            # Ajuste do limiar de ativação\n",
        "            self.weight_[0] += self.eta * sum(error)\n",
        "            # Ajuste dos pesos sinápticos - Minimização do erro quadrático médio com a aplicação do gradiente do erro E(w)\n",
        "            self.weight_[1:] += self.eta * X.T.dot(error) # dot efetua a multiplicação de matrizes, T calcula a transposta de X para poder efetuar a multiplicação segundo a regra - https://acervolima.com/diferenca-entre-a-operacao-numpy-dot-e-em-python/\n",
        "\n",
        "            # Cálculo do erro quadrático E(w)\n",
        "            self.cost = 1./2 * sum((error**2))\n",
        "\n",
        "            # Armazena em mseP o mse da época anterior para poder comparar com o atual\n",
        "            mseP = self.mse\n",
        "\n",
        "            # Cálculo do erro quadrático médio mse(w) da época atual\n",
        "            self.mse = 1./X.shape[0] * sum((error**2))\n",
        "\n",
        "            # Atualização do número de épocas\n",
        "            self.epochs += 1\n",
        "\n",
        "            # Permite verificar a diferença do erro somente na segunda passagem\n",
        "            if self.epochs > 1:\n",
        "                # Verfica se a diferença entre o erro da época anterior com a atual é menor que o objetivo pré-determinado\n",
        "                if  mseP-self.mse < self.goal:\n",
        "                    break\n",
        "\n",
        "            # Armazena os erros quadráticos e os erros quadráticos médios em listas\n",
        "            self.error_.append(self.cost)\n",
        "            self.mse_.append(self.mse)\n",
        "\n",
        "        return self\n",
        "\n",
        "    def net_input(self, X):\n",
        "        # Calcula a entrada da rede por meio de um produto escalar (dot) dos valores de entrada com os pesos (Combinador Linear)\n",
        "        return np.dot(X, self.weight_[1:]) + self.weight_[0]\n",
        "\n",
        "    def activation_function(self, X):\n",
        "        # Função de ativação que recebe o retorno do cálculo do método net_input\n",
        "        return self.net_input(X)\n",
        "\n",
        "    def predict(self, X, y_d): # y_d = saída desejada utilizada para verificar a acurácia no teste\n",
        "        # Obtenção da saída calculada baseada no conjunto de entradas calculado com os pesos ajustados obtenção final pautada na função de ativação\n",
        "        y = np.where(self.activation_function(X) >= 0.0, 1, -1)\n",
        "\n",
        "        # Verificação se a amostra testada apresentou erro na classificação\n",
        "        if y != y_d:\n",
        "            self.errorsTests = self.errorsTests + 1\n",
        "            return 'Erro'\n",
        "        return 'Acerto'"
      ]
    },
    {
      "cell_type": "code",
      "source": [
        "# Caminho do dataset no Google Drive que será carregado em df\n",
        "df = pd.read_csv(\"/content/drive/MyDrive/RNA_Datasets/valvulas.csv\")\n",
        "\n",
        "# Separando a coluna da classe do dataset\n",
        "y = df.iloc[:, 4].values\n",
        "\n",
        "# Separando as colunas com as variáveis do dataset para determinar os inputs da RNA\n",
        "X = df.iloc[:, [0,1,2,3]].values\n",
        "\n",
        "# Normalização dos dados sklearn - dados entre 0 e 1 - https://pt.linux-console.net/?p=5847\n",
        "#scaler = preprocessing.MinMaxScaler()\n",
        "#X = scaler.fit_transform(X)\n",
        "\n",
        "# Separação do dataset em amostras para treino e teste, considerando 30% dos valores para teste\n",
        "X_train, X_test, y_train, y_test = train_test_split(X, y, test_size=0.30)"
      ],
      "metadata": {
        "id": "b41vu7VNlI6R"
      },
      "execution_count": 2,
      "outputs": []
    },
    {
      "cell_type": "code",
      "source": [
        "## Treinando a RNA com dados separados em 70% do dataset e validando com 30%\n",
        "\n",
        "# Criando as fronteiras de decisão com Adaline\n",
        "rede = Adaline(eta = 0.001, epoch = 5000, goal = 0.000001)\n",
        "rede.fit(X_train, y_train)\n",
        "\n",
        "# Plotando o gráfico da descida do gradiente no processo de treinamento\n",
        "plt.figure(figsize=(14,5))\n",
        "ax = plt.subplot()\n",
        "ax.plot(range(len(rede.mse_)), rede.mse_)\n",
        "ax.set_ylabel('Erro Quadrático Médio')\n",
        "ax.set_xlabel('Época')\n",
        "ax.set_title('Gráfico de Erro no Treinamento da Rede')\n",
        "plt.show()"
      ],
      "metadata": {
        "colab": {
          "base_uri": "https://localhost:8080/",
          "height": 489
        },
        "id": "bnxvaPD6lREX",
        "outputId": "be00544c-8da9-459e-cf45-6b99211b7824"
      },
      "execution_count": 3,
      "outputs": [
        {
          "output_type": "display_data",
          "data": {
            "text/plain": [
              "<Figure size 1400x500 with 1 Axes>"
            ],
            "image/png": "[encoded data removed]"
          },
          "metadata": {}
        }
      ]
    },
    {
      "cell_type": "code",
      "source": [
        "# Testando a rede em lote de amostras\n",
        "print(\"\\nClassificações dos testes com amostras não apresentadas no treinamento:\")\n",
        "\n",
        "nTests = len(y_test)\n",
        "for i in range(nTests):\n",
        "    rede.predict(X_test[i,:], y_test[i])\n",
        "\n",
        "print(\"Acurácia: \", (nTests-rede.errorsTests)/nTests*100, \"%\")\n",
        "print(\"Quantidade de erros no teste em lote: \", rede.errorsTests)\n",
        "print(\"Número de épocas do treinamento da RNA: \", rede.epochs)\n",
        "print(\"Erro quadrático médio final (MSE - Eqm(w)): \", rede.mse)\n",
        "print(\"Erro quadrático final (QE - E(w) - Custo): \", rede.cost)\n",
        "print(\"Vetor de pesos finais da RNA treinada - Limiar = \", rede.weight_[0], \"Pesos das entradas = \", rede.weight_[1:])"
      ],
      "metadata": {
        "colab": {
          "base_uri": "https://localhost:8080/"
        },
        "id": "99FxarJbrYKK",
        "outputId": "2d80262b-f82d-4a63-9224-c6c0a34be099"
      },
      "execution_count": 4,
      "outputs": [
        {
          "output_type": "stream",
          "name": "stdout",
          "text": [
            "\n",
            "Classificações dos testes com amostras não apresentadas no treinamento:\n",
            "Acurácia:  90.9090909090909 %\n",
            "Quantidade de erros no teste em lote:  1\n",
            "Número de épocas do treinamento da RNA:  2878\n",
            "Erro quadrático médio final (MSE - Eqm(w)):  0.3154073062479318\n",
            "Erro quadrático final (QE - E(w) - Custo):  3.6271840218512157\n",
            "Vetor de pesos finais da RNA treinada - Limiar =  1.5653125624533941 Pesos das entradas =  [ 1.44084422  1.57768179 -0.33420372 -1.09323888]\n"
          ]
        }
      ]
    },
    {
      "cell_type": "code",
      "source": [
        "## Treinando novamente com o dataset completo e validando com um novo dataset específico para teste\n",
        "\n",
        "# Criando as fronteiras de decisão com Adaline\n",
        "rede2 = Adaline(eta = 0.001, epoch = 5000, goal = 0.000001)\n",
        "rede2.fit(X, y)\n",
        "\n",
        "# Caminho do dataset no Google Drive que será carregado em df\n",
        "dft = pd.read_csv(\"/content/drive/MyDrive/RNA_Datasets/valvulasTestes.csv\")\n",
        "\n",
        "# Separando a coluna da classe do dataset\n",
        "yt = dft.iloc[:, 4].values\n",
        "\n",
        "# Separando as colunas com as variáveis do dataset para determinar os inputs da RNA\n",
        "Xt = dft.iloc[:, [0,1,2,3]].values\n",
        "\n",
        "nTests = len(yt)\n",
        "\n",
        "for i in range(nTests):\n",
        "    print(rede2.predict(Xt[i,:], yt[i]))\n",
        "\n",
        "print(\"Quantidade de erros no teste em lote: \", rede2.errorsTests)\n",
        "print(\"Acurácia: \", (nTests-rede2.errorsTests)/nTests*100, \"%\")\n",
        "print(\"Número de épocas do treinamento da RNA: \", rede2.epochs)\n",
        "print(\"Erro quadrático médio final (MSE - Eqm(w)): \", rede2.mse)\n",
        "print(\"Erro quadrático final (QE - E(w) - Custo): \", rede2.cost)\n",
        "print(\"Vetor de pesos finais da RNA treinada - Limiar = \", rede2.weight_[0], \"Pesos das entradas = \", rede2.weight_[1:])"
      ],
      "metadata": {
        "colab": {
          "base_uri": "https://localhost:8080/"
        },
        "id": "Din7unycln_S",
        "outputId": "04d5a57b-71bd-4ffd-b45f-b2c8efc0610a"
      },
      "execution_count": 38,
      "outputs": [
        {
          "output_type": "stream",
          "name": "stdout",
          "text": [
            "Acerto\n",
            "Acerto\n",
            "Acerto\n",
            "Acerto\n",
            "Acerto\n",
            "Acerto\n",
            "Acerto\n",
            "Acerto\n",
            "Acerto\n",
            "Acerto\n",
            "Acerto\n",
            "Acerto\n",
            "Acerto\n",
            "Acerto\n",
            "Quantidade de erros no teste em lote:  0\n",
            "Acurácia:  100.0 %\n",
            "Número de épocas do treinamento da RNA:  1949\n",
            "Erro quadrático médio final (MSE - Eqm(w)):  0.3095704305474387\n",
            "Erro quadrático final (QE - E(w) - Custo):  5.262697319306458\n",
            "Vetor de pesos finais da RNA treinada - Limiar =  1.7725811035721106 Pesos das entradas =  [ 1.30224347  1.6252486  -0.42354429 -1.1695476 ]\n"
          ]
        }
      ]
    }
  ]
}