{
 "cells": [
  {
   "cell_type": "markdown",
   "metadata": {},
   "source": [
    "# Problema OneMax Armadilha (deceptive 4-bit Trap)\n",
    "\n",
    "* A aptidão de uma solução é o número de 1s que ela contém, a menos que sejam todos 0s, caso em que sua aptidão é o tamnho da solução + 1;  \n",
    "* Chamado de problema armadilha, uma vez que o algoritmo é recompensado gradativamente para cada 1 que adiciona ao problema, mas a melhor solução consiste em todos os 0s. \n",
    "    * Exemplo:\n",
    "    * 1001 (soma == 2)\n",
    "    * 0111 (soma == 3)\n",
    "    * 1111 (soma == 4)\n",
    "    * 0000 (soma == 5)"
   ]
  },
  {
   "cell_type": "markdown",
   "metadata": {},
   "source": [
    "### Instalçao do framework"
   ]
  },
  {
   "cell_type": "code",
   "execution_count": 4,
   "metadata": {
    "colab": {
     "base_uri": "https://localhost:8080/"
    },
    "id": "JNVoTIBnFONn",
    "outputId": "630ea967-94cf-4885-dff9-b746af575031"
   },
   "outputs": [
    {
     "name": "stdout",
     "output_type": "stream",
     "text": [
      "Collecting mlrose\n",
      "  Using cached mlrose-1.3.0-py3-none-any.whl (27 kB)\n",
      "Requirement already satisfied: numpy in c:\\users\\diego o. antunes\\appdata\\local\\programs\\python\\python312\\lib\\site-packages (from mlrose) (1.26.3)\n",
      "Requirement already satisfied: scipy in c:\\users\\diego o. antunes\\appdata\\local\\programs\\python\\python312\\lib\\site-packages (from mlrose) (1.11.4)\n",
      "Collecting sklearn (from mlrose)\n",
      "  Using cached sklearn-0.0.post12.tar.gz (2.6 kB)\n",
      "  Installing build dependencies: started\n",
      "  Installing build dependencies: finished with status 'done'\n",
      "  Getting requirements to build wheel: started\n",
      "  Getting requirements to build wheel: finished with status 'error'\n"
     ]
    },
    {
     "name": "stderr",
     "output_type": "stream",
     "text": [
      "  error: subprocess-exited-with-error\n",
      "  \n",
      "  × Getting requirements to build wheel did not run successfully.\n",
      "  │ exit code: 1\n",
      "  ╰─> [15 lines of output]\n",
      "      The 'sklearn' PyPI package is deprecated, use 'scikit-learn'\n",
      "      rather than 'sklearn' for pip commands.\n",
      "      \n",
      "      Here is how to fix this error in the main use cases:\n",
      "      - use 'pip install scikit-learn' rather than 'pip install sklearn'\n",
      "      - replace 'sklearn' by 'scikit-learn' in your pip requirements files\n",
      "        (requirements.txt, setup.py, setup.cfg, Pipfile, etc ...)\n",
      "      - if the 'sklearn' package is used by one of your dependencies,\n",
      "        it would be great if you take some time to track which package uses\n",
      "        'sklearn' instead of 'scikit-learn' and report it to their issue tracker\n",
      "      - as a last resort, set the environment variable\n",
      "        SKLEARN_ALLOW_DEPRECATED_SKLEARN_PACKAGE_INSTALL=True to avoid this error\n",
      "      \n",
      "      More information is available at\n",
      "      https://github.com/scikit-learn/sklearn-pypi-package\n",
      "      [end of output]\n",
      "  \n",
      "  note: This error originates from a subprocess, and is likely not a problem with pip.\n",
      "error: subprocess-exited-with-error\n",
      "\n",
      "× Getting requirements to build wheel did not run successfully.\n",
      "│ exit code: 1\n",
      "╰─> See above for output.\n",
      "\n",
      "note: This error originates from a subprocess, and is likely not a problem with pip.\n"
     ]
    }
   ],
   "source": [
    "!pip install mlrose"
   ]
  },
  {
   "cell_type": "code",
   "execution_count": 10,
   "metadata": {},
   "outputs": [
    {
     "name": "stdout",
     "output_type": "stream",
     "text": [
      "Requirement already satisfied: scikit-learn in c:\\users\\diego o. antunes\\appdata\\local\\programs\\python\\python312\\lib\\site-packages (1.4.0)\n",
      "Requirement already satisfied: numpy<2.0,>=1.19.5 in c:\\users\\diego o. antunes\\appdata\\local\\programs\\python\\python312\\lib\\site-packages (from scikit-learn) (1.26.3)\n",
      "Requirement already satisfied: scipy>=1.6.0 in c:\\users\\diego o. antunes\\appdata\\local\\programs\\python\\python312\\lib\\site-packages (from scikit-learn) (1.11.4)\n",
      "Requirement already satisfied: joblib>=1.2.0 in c:\\users\\diego o. antunes\\appdata\\local\\programs\\python\\python312\\lib\\site-packages (from scikit-learn) (1.3.2)\n",
      "Requirement already satisfied: threadpoolctl>=2.0.0 in c:\\users\\diego o. antunes\\appdata\\local\\programs\\python\\python312\\lib\\site-packages (from scikit-learn) (3.2.0)\n",
      "Collecting mlrose\n",
      "  Using cached mlrose-1.3.0-py3-none-any.whl (27 kB)\n",
      "Requirement already satisfied: numpy in c:\\users\\diego o. antunes\\appdata\\local\\programs\\python\\python312\\lib\\site-packages (from mlrose) (1.26.3)\n",
      "Requirement already satisfied: scipy in c:\\users\\diego o. antunes\\appdata\\local\\programs\\python\\python312\\lib\\site-packages (from mlrose) (1.11.4)\n",
      "Collecting sklearn (from mlrose)\n",
      "  Using cached sklearn-0.0.post12.tar.gz (2.6 kB)\n",
      "  Installing build dependencies: started\n",
      "  Installing build dependencies: finished with status 'done'\n",
      "  Getting requirements to build wheel: started\n",
      "  Getting requirements to build wheel: finished with status 'done'\n",
      "  Preparing metadata (pyproject.toml): started\n",
      "  Preparing metadata (pyproject.toml): finished with status 'done'\n",
      "Building wheels for collected packages: sklearn\n",
      "  Building wheel for sklearn (pyproject.toml): started\n",
      "  Building wheel for sklearn (pyproject.toml): finished with status 'done'\n",
      "  Created wheel for sklearn: filename=sklearn-0.0.post12-py3-none-any.whl size=2197 sha256=b29a0d40afe85511084f549557785d153f599ba6a1ab782ffe7f2e1f41661f5f\n",
      "  Stored in directory: c:\\users\\diego o. antunes\\appdata\\local\\pip\\cache\\wheels\\bb\\9a\\b9\\bb720079a088061ea32a0de4fa3ed0b495d7a929efcd80b450\n",
      "Successfully built sklearn\n",
      "Installing collected packages: sklearn, mlrose\n",
      "Successfully installed mlrose-1.3.0 sklearn-0.0.post12\n"
     ]
    }
   ],
   "source": [
    "!pip install scikit-learn\n",
    "import os\n",
    "\n",
    "# Definindo a variável de ambiente\n",
    "os.environ['SKLEARN_ALLOW_DEPRECATED_SKLEARN_PACKAGE_INSTALL'] = 'True'\n",
    "\n",
    "# O restante do seu código aqui\n",
    "\n",
    "!pip install mlrose\n"
   ]
  },
  {
   "cell_type": "code",
   "execution_count": 11,
   "metadata": {
    "id": "RDMMYF51I3Tn"
   },
   "outputs": [],
   "source": [
    "# Configuração inicial\n",
    "import six\n",
    "import sys\n",
    "sys.modules['sklearn.externals.six'] = six\n",
    "import mlrose"
   ]
  },
  {
   "cell_type": "markdown",
   "metadata": {
    "id": "z12zZlrNI1L8"
   },
   "source": [
    "### Definição da função fitness"
   ]
  },
  {
   "cell_type": "code",
   "execution_count": 12,
   "metadata": {},
   "outputs": [],
   "source": [
    "def trap_fitness_function(solucao):\n",
    "    \"\"\"A soma dos valores 0s da solucao (list) e\n",
    "       tamanho da cadeia de bits igual a 4.\n",
    "    \"\"\"\n",
    "\n",
    "    soma = 0\n",
    "\n",
    "    for bit in solucao:\n",
    "        soma += bit\n",
    "\n",
    "    if soma == 0:\n",
    "        return 5\n",
    "    else:\n",
    "        return soma"
   ]
  },
  {
   "cell_type": "markdown",
   "metadata": {},
   "source": [
    "### Construção do problema no mlrose"
   ]
  },
  {
   "cell_type": "code",
   "execution_count": 13,
   "metadata": {
    "id": "kzRooBieJhax"
   },
   "outputs": [],
   "source": [
    "fitness = mlrose.CustomFitness(trap_fitness_function)"
   ]
  },
  {
   "cell_type": "code",
   "execution_count": 14,
   "metadata": {
    "id": "R_v7bi5GJvwk"
   },
   "outputs": [],
   "source": [
    "problema = mlrose.DiscreteOpt(length = 4, fitness_fn = fitness,\n",
    "                             maximize = True, max_val = 2)"
   ]
  },
  {
   "cell_type": "markdown",
   "metadata": {
    "id": "TfNpB5slN7Cp"
   },
   "source": [
    "### Algoritmo Hill climbing"
   ]
  },
  {
   "cell_type": "code",
   "execution_count": 15,
   "metadata": {
    "colab": {
     "base_uri": "https://localhost:8080/"
    },
    "id": "l4eyqdAbOS0p",
    "outputId": "207e4172-34d1-430b-e220-78140b21e544"
   },
   "outputs": [
    {
     "data": {
      "text/plain": [
       "(array([1, 1, 1, 1]), 4.0)"
      ]
     },
     "execution_count": 15,
     "metadata": {},
     "output_type": "execute_result"
    }
   ],
   "source": [
    "solucao_HC, melhor_custo = mlrose.hill_climb(problema)\n",
    "solucao_HC, melhor_custo"
   ]
  },
  {
   "cell_type": "markdown",
   "metadata": {
    "id": "ZU8cD5k2N8wO"
   },
   "source": [
    "### Algoritmo Simulated annealing"
   ]
  },
  {
   "cell_type": "code",
   "execution_count": 18,
   "metadata": {
    "colab": {
     "base_uri": "https://localhost:8080/"
    },
    "id": "L9KjmUcMKGh_",
    "outputId": "3739e1aa-e815-486f-a65a-cc150930e995"
   },
   "outputs": [
    {
     "data": {
      "text/plain": [
       "(array([1, 1, 1, 1]), 4.0)"
      ]
     },
     "execution_count": 18,
     "metadata": {},
     "output_type": "execute_result"
    }
   ],
   "source": [
    "solucao_SA, melhor_custo = mlrose.simulated_annealing(problema)\n",
    "solucao_SA, melhor_custo"
   ]
  }
 ],
 "metadata": {
  "colab": {
   "provenance": []
  },
  "kernelspec": {
   "display_name": "Python 3 (ipykernel)",
   "language": "python",
   "name": "python3"
  },
  "language_info": {
   "codemirror_mode": {
    "name": "ipython",
    "version": 3
   },
   "file_extension": ".py",
   "mimetype": "text/x-python",
   "name": "python",
   "nbconvert_exporter": "python",
   "pygments_lexer": "ipython3",
   "version": "3.12.1"
  }
 },
 "nbformat": 4,
 "nbformat_minor": 1
}
