{
 "cells": [
  {
   "cell_type": "code",
   "execution_count": 1,
   "metadata": {},
   "outputs": [],
   "source": [
    "from deap import base, creator, tools\n",
    "import random\n",
    "\n",
    "toolbox = base.Toolbox()\n",
    "\n",
    "# Cria o tipo de função fitness e indivíduo\n",
    "creator.create(\"Maximization\", base.Fitness, weights=(1.0,))\n",
    "creator.create(\"Genes\", list, fitness=creator.Maximization)\n",
    "\n",
    "# Registra os nomes e os tipos de individuo, fiteness e população\n",
    "toolbox.register(\"Atributo\", random.randint, 0, 10)\n",
    "toolbox.register(\"Cromossomo\", tools.initRepeat, creator.Genes, toolbox.Atributo, n=5)\n",
    "toolbox.register(\"Populacao\", tools.initRepeat, list, toolbox.Cromossomo, n=10)"
   ]
  }
 ],
 "metadata": {
  "kernelspec": {
   "display_name": "Python 3",
   "language": "python",
   "name": "python3"
  },
  "language_info": {
   "codemirror_mode": {
    "name": "ipython",
    "version": 3
   },
   "file_extension": ".py",
   "mimetype": "text/x-python",
   "name": "python",
   "nbconvert_exporter": "python",
   "pygments_lexer": "ipython3",
   "version": "3.12.1"
  }
 },
 "nbformat": 4,
 "nbformat_minor": 2
}
